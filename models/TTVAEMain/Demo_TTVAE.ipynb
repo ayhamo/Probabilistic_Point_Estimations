{
  "cells": [
    {
      "cell_type": "code",
      "execution_count": 3,
      "metadata": {
        "colab": {
          "base_uri": "https://localhost:8080/"
        },
        "id": "hPJxKmTXZc0U",
        "outputId": "3bf10d94-0480-49ca-b876-cc0c2de53fb1"
      },
      "outputs": [
        {
          "name": "stdout",
          "output_type": "stream",
          "text": [
            "Start processing dataset adult from UCI.\n",
            "Finish downloading dataset from https://archive.ics.uci.edu/static/public/2/adult.zip, data has been saved to data/adult.\n",
            "Finish unzipping adult.\n",
            "Start processing dataset abalone from UCI.\n",
            "Finish downloading dataset from https://archive.ics.uci.edu/static/public/1/abalone.zip, data has been saved to data/abalone.\n",
            "Finish unzipping abalone.\n",
            "dataset name : adult train size: (32561, 15), test size: (16281, 15)\n",
            "Numerical (32561, 6)\n",
            "Categorical (32561, 8)\n",
            "Processing and Saving adult Successfully!\n",
            "adult\n",
            "--------------------\n",
            "Total 48842\n",
            "Train 32561\n",
            "Test 16281\n",
            "N_Num 6\n",
            "N_Cat 9\n",
            "--------------------------------------------------\n",
            "dataset name : abalone train size: (3340, 9), test size: (836, 9)\n",
            "Numerical (3340, 7)\n",
            "Categorical (3340, 1)\n",
            "Processing and Saving abalone Successfully!\n",
            "abalone\n",
            "--------------------\n",
            "Total 4176\n",
            "Train 3340\n",
            "Test 836\n",
            "N_Num 8\n",
            "N_Cat 1\n",
            "--------------------------------------------------\n"
          ]
        }
      ],
      "source": [
        "!python s1_download_dataset.py\n",
        "!python s2_process_dataset.py"
      ]
    },
    {
      "cell_type": "code",
      "execution_count": 1,
      "metadata": {},
      "outputs": [
        {
          "name": "stdout",
          "output_type": "stream",
          "text": [
            "--- Starting Model Training ---\n",
            "data_dim: 84, latent_dim: 32, embedding_dim: 128, nhead: 8, dim_feedforward: 1028, dropout: 0.1\n",
            "\n",
            "--- Evaluating Model on Test Data using CRPS ---\n",
            "Generating predictive distributions...\n",
            "Calculating CRPS...\n",
            "Average CRPS on Test Data: 0.346231 ---\n",
            "\n",
            "--- Estimating Negative Log-Likelihood on Test Data ---\n",
            "Estimated NLL on Test Data: -444170.9091 ---\n"
          ]
        }
      ],
      "source": [
        "!python main.py --dataname abalone --method ttvae --mode train --ttvae_epochs 60 --gpu 0"
      ]
    },
    {
      "cell_type": "code",
      "execution_count": 7,
      "metadata": {
        "colab": {
          "base_uri": "https://localhost:8080/"
        },
        "id": "OwDaKLlnye-z",
        "outputId": "ff97722c-819f-4bea-ce3d-dab8d6722fe2"
      },
      "outputs": [
        {
          "name": "stdout",
          "output_type": "stream",
          "text": [
            "Time: 2.2402865886688232\n",
            "Saving sampled data to synthetic/abalone/ttvae.csv\n"
          ]
        }
      ],
      "source": [
        "#SMOTE or triangle for lsi_method\n",
        "!python main.py --dataname abalone --method ttvae --mode sample --lsi_method rectangle"
      ]
    }
  ],
  "metadata": {
    "accelerator": "GPU",
    "colab": {
      "gpuType": "T4",
      "machine_shape": "hm",
      "provenance": []
    },
    "kernelspec": {
      "display_name": "env",
      "language": "python",
      "name": "python3"
    },
    "language_info": {
      "codemirror_mode": {
        "name": "ipython",
        "version": 3
      },
      "file_extension": ".py",
      "mimetype": "text/x-python",
      "name": "python",
      "nbconvert_exporter": "python",
      "pygments_lexer": "ipython3",
      "version": "3.12.5"
    }
  },
  "nbformat": 4,
  "nbformat_minor": 0
}
